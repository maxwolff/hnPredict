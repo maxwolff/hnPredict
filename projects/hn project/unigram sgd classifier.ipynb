{
 "cells": [
  {
   "cell_type": "code",
   "execution_count": 283,
   "metadata": {
    "collapsed": false
   },
   "outputs": [],
   "source": [
    "import csv\n",
    "from sklearn.linear_model import SGDClassifier\n",
    "from sklearn import linear_model\n",
    "from sklearn.metrics import mean_absolute_error\n",
    "from sklearn.metrics import mean_squared_error\n",
    "\n",
    "rawTrain = []\n",
    "rawTest = []\n",
    "numResults = 10000\n",
    "\n",
    "with open ('results10000.csv','rb') as results:\n",
    "    counter = 0\n",
    "    resultsReader = csv.reader(results)\n",
    "    for row in resultsReader:\n",
    "        if counter != 0: # filter out first title row\n",
    "            if counter <= numResults /2:\n",
    "                rawTrain.append(row)     \n",
    "            if counter > numResults /2:\n",
    "                rawTest.append(row)\n",
    "        counter += 1\n",
    "\n",
    "                \n",
    "def formatSets(arr): \n",
    "    formatted = []\n",
    "    for article in arr: \n",
    "        newArticle = article[0:2]\n",
    "        #newArticle.append(article[5])  \n",
    "        formatted.append(newArticle)\n",
    "    return formatted\n",
    "\n",
    "train = formatSets(rawTrain)\n",
    "test = formatSets(rawTest)\n",
    "                \n",
    "def makeWordMap(train, test):\n",
    "    # {word : feature #}\n",
    "    wordMap = {}\n",
    "    numWords = 0\n",
    "    for entry in train + test:\n",
    "        words = entry[0].split()\n",
    "        for word in words:\n",
    "            if word not in wordMap: \n",
    "                wordMap[word] = numWords\n",
    "                numWords +=1\n",
    "    return wordMap, numWords\n",
    "    \n",
    "wordMap, numWords = makeWordMap(train,test)\n",
    "\n",
    "def wordCount():\n",
    "    return numWords\n",
    "\n",
    "def makeResults(data): \n",
    "    y = len(data) * [0]\n",
    "    entryNum = 0\n",
    "    for entry in data: \n",
    "        #y[entryNum] =  int(int(entry[1]) > 40) (for classifier)\n",
    "        y[entryNum] =  int(entry[1])\n",
    "        \n",
    "        entryNum += 1\n",
    "    return y\n",
    "\n",
    "def makeFeatures(data): \n",
    "    x = []\n",
    "    for entry in data:\n",
    "        features = wordCount() * [0]\n",
    "        words = entry[0].split()\n",
    "        for word in words:\n",
    "            num = wordMap[word]\n",
    "            features[num] += 1\n",
    "        x.append(features)\n",
    "    return x\n",
    "\n",
    "\n",
    "trainY = makeResults(train)\n",
    "trainX = makeFeatures(train)\n",
    "\n",
    "testY = makeResults(test)\n",
    "testX = makeFeatures(test)\n",
    "    \n",
    "    "
   ]
  },
  {
   "cell_type": "code",
   "execution_count": 284,
   "metadata": {
    "collapsed": false
   },
   "outputs": [
    {
     "data": {
      "text/plain": [
       "\"SGDClassifier(alpha=0.0001, average=False, class_weight=None, epsilon=0.1,\\n       eta0=0.0, fit_intercept=True, l1_ratio=0.15,\\n       learning_rate='optimal', loss='hinge', n_iter=5, n_jobs=1,\\n       penalty='l2', power_t=0.5, random_state=None, shuffle=True,\\n       verbose=0, warm_start=False)\""
      ]
     },
     "execution_count": 284,
     "metadata": {},
     "output_type": "execute_result"
    }
   ],
   "source": [
    "#clf = SGDClassifier(loss=\"hinge\", penalty=\"l2\")\n",
    "clf = linear_model.SGDRegressor()\n",
    "clf.fit(trainX, trainY)\n",
    "'''SGDClassifier(alpha=0.0001, average=False, class_weight=None, epsilon=0.1,\n",
    "       eta0=0.0, fit_intercept=True, l1_ratio=0.15,\n",
    "       learning_rate='optimal', loss='hinge', n_iter=5, n_jobs=1,\n",
    "       penalty='l2', power_t=0.5, random_state=None, shuffle=True,\n",
    "       verbose=0, warm_start=False)'''"
   ]
  },
  {
   "cell_type": "code",
   "execution_count": 285,
   "metadata": {
    "collapsed": false
   },
   "outputs": [
    {
     "name": "stdout",
     "output_type": "stream",
     "text": [
      "train r2: 0.0800906549931\n",
      "test r2: 0.00316362019424\n",
      "train error (mean sq):  610.453617929\n",
      "testError (mean sq):  932.56938357\n"
     ]
    }
   ],
   "source": [
    "from sklearn.metrics import r2_score\n",
    "\n",
    "print 'train r2:' , r2_score(trainY, trainPredict)\n",
    "print 'test r2:' , r2_score(testY, testPredict)\n",
    "\n",
    "trainPredict = clf.predict(trainX)\n",
    "trainError = mean_squared_error(trainY, trainPredict)\n",
    "print 'train error (mean sq): ', trainError\n",
    "\n",
    "testPredict = clf.predict(testX)\n",
    "testError = mean_squared_error(testY, testPredict)\n",
    "print 'testError (mean sq): ', testError"
   ]
  },
  {
   "cell_type": "code",
   "execution_count": null,
   "metadata": {
    "collapsed": true
   },
   "outputs": [],
   "source": [
    "#note fuckka "
   ]
  },
  {
   "cell_type": "code",
   "execution_count": null,
   "metadata": {
    "collapsed": true
   },
   "outputs": [],
   "source": []
  }
 ],
 "metadata": {
  "kernelspec": {
   "display_name": "Python [Root]",
   "language": "python",
   "name": "Python [Root]"
  },
  "language_info": {
   "codemirror_mode": {
    "name": "ipython",
    "version": 2
   },
   "file_extension": ".py",
   "mimetype": "text/x-python",
   "name": "python",
   "nbconvert_exporter": "python",
   "pygments_lexer": "ipython2",
   "version": "2.7.12"
  }
 },
 "nbformat": 4,
 "nbformat_minor": 0
}
